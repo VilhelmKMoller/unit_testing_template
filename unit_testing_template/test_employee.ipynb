{
 "cells": [
  {
   "cell_type": "code",
   "execution_count": 1,
   "metadata": {},
   "outputs": [
    {
     "name": "stdout",
     "output_type": "stream",
     "text": [
      "importing Jupyter notebook from employee.ipynb\n"
     ]
    }
   ],
   "source": [
    "### https://www.youtube.com/watch?v=6tNS--WetLI&t=2035s\n",
    "\n",
    "# unit test module that we will be using\n",
    "import unittest\n",
    "\n",
    "import import_ipynb\n",
    "from employee import Employee #import jupyter notebook version\n",
    "\n",
    "from unittest.mock import patch"
   ]
  },
  {
   "cell_type": "code",
   "execution_count": 2,
   "metadata": {},
   "outputs": [],
   "source": [
    "## SNIPPET import from gitHub:: https://github.com/CoreyMSchafer/code_snippets/blob/master/Python-Unit-Testing/snippets.txt\n",
    "\n",
    "class TestEmployee(unittest.TestCase):\n",
    "\n",
    "    # defoult run before every test\n",
    "    def setUp(self):\n",
    "        self.emp_1 = Employee('Corey', 'Schafer', 50000)\n",
    "        self.emp_2 = Employee('Sue', 'Smith', 60000)\n",
    "    \n",
    "    # defoult run in end of every test\n",
    "    def tearDown(self):\n",
    "        pass\n",
    "    \n",
    "        # test by creating 2 employees\n",
    "    def test_email(self):\n",
    "        \n",
    "        self.assertEqual(self.emp_1.email, 'Corey.Schafer@email.com')\n",
    "        self.assertEqual(self.emp_2.email, 'Sue.Smith@email.com')\n",
    "        \n",
    "         # change name of employees to see if that chnages email\n",
    "        self.emp_1.first = 'John'\n",
    "        self.emp_2.first = 'Jane'\n",
    "\n",
    "        self.assertEqual(self.emp_1.email, 'John.Schafer@email.com')\n",
    "        self.assertEqual(self.emp_2.email, 'Jane.Smith@email.com')\n",
    "\n",
    "    def test_fullname(self):\n",
    "\n",
    "        self.assertEqual(self.emp_1.fullname, 'Corey Schafer')\n",
    "        self.assertEqual(self.emp_2.fullname, 'Sue Smith')\n",
    "\n",
    "        self.emp_1.first = 'John'\n",
    "        self.emp_2.first = 'Jane'\n",
    "\n",
    "        self.assertEqual(self.emp_1.fullname, 'John Schafer')\n",
    "        self.assertEqual(self.emp_2.fullname, 'Jane Smith')\n",
    "\n",
    "    def test_apply_raise(self):\n",
    "\n",
    "        self.emp_1.apply_raise()\n",
    "        self.emp_2.apply_raise()\n",
    "\n",
    "        self.assertEqual(self.emp_1.pay, 52500)\n",
    "        self.assertEqual(self.emp_2.pay, 63000)\n",
    "        \n",
    "    def test_monthly_schedule(self):\n",
    "        with patch('employee.requests.get') as mocked_get:\n",
    "            mocked_get.return_value.ok = True\n",
    "            mocked_get.return_value.text = 'Success'\n",
    "            \n",
    "            schedule = self.emp_1.monthly_schedule('May')\n",
    "            mocked_get.assert_called_with('http://company.com/Schafer/May')\n",
    "            self.assertEqual(schedule, 'Success')\n",
    "            \n",
    "            \n",
    "        with patch('employee.requests.get') as mocked_get:\n",
    "            mocked_get.return_value.ok = False\n",
    "            \n",
    "            schedule = self.emp_2.monthly_schedule('June')\n",
    "            mocked_get.assert_called_with('http://company.com/Smith/June')\n",
    "            self.assertEqual(schedule, 'Bad Response!')\n",
    "            "
   ]
  },
  {
   "cell_type": "code",
   "execution_count": 4,
   "metadata": {},
   "outputs": [
    {
     "name": "stderr",
     "output_type": "stream",
     "text": [
      "test_apply_raise (__main__.TestEmployee) ... ok\n",
      "test_email (__main__.TestEmployee) ... ok\n",
      "test_fullname (__main__.TestEmployee) ... ok\n",
      "test_monthly_schedule (__main__.TestEmployee) ... ok\n",
      "\n",
      "----------------------------------------------------------------------\n",
      "Ran 4 tests in 0.010s\n",
      "\n",
      "OK\n"
     ]
    },
    {
     "data": {
      "text/plain": [
       "<unittest.main.TestProgram at 0x13ab1c857c0>"
      ]
     },
     "execution_count": 4,
     "metadata": {},
     "output_type": "execute_result"
    }
   ],
   "source": [
    "## equivent to terminal command:: python -m unittest test_calc.py\n",
    "unittest.main(argv=[''], verbosity=2, exit=False)\n",
    "\n",
    "## you dont need to write if main ... but this means you can run it in terminal using only python."
   ]
  },
  {
   "cell_type": "code",
   "execution_count": null,
   "metadata": {},
   "outputs": [],
   "source": []
  },
  {
   "cell_type": "code",
   "execution_count": null,
   "metadata": {},
   "outputs": [],
   "source": []
  }
 ],
 "metadata": {
  "kernelspec": {
   "display_name": "Python 3",
   "language": "python",
   "name": "python3"
  },
  "language_info": {
   "codemirror_mode": {
    "name": "ipython",
    "version": 3
   },
   "file_extension": ".py",
   "mimetype": "text/x-python",
   "name": "python",
   "nbconvert_exporter": "python",
   "pygments_lexer": "ipython3",
   "version": "3.8.5"
  }
 },
 "nbformat": 4,
 "nbformat_minor": 4
}
