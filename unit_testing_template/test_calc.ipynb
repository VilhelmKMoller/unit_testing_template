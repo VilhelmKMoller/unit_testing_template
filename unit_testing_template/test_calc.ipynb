{
 "cells": [
  {
   "cell_type": "code",
   "execution_count": 1,
   "metadata": {},
   "outputs": [],
   "source": [
    "### https://www.youtube.com/watch?v=6tNS--WetLI&t=2035s\n",
    "\n",
    "# unit test module that we will be using\n",
    "import unittest\n",
    "# import the script we will be testing\n",
    "#import hellocalc as calc\n",
    "\n",
    "# DID NOT WORK BUT MAYBE INTERESTING LATER\n",
    "#%run calc.ipynb"
   ]
  },
  {
   "cell_type": "code",
   "execution_count": 2,
   "metadata": {},
   "outputs": [],
   "source": [
    "#!pip install ipynb"
   ]
  },
  {
   "cell_type": "code",
   "execution_count": 3,
   "metadata": {},
   "outputs": [],
   "source": [
    "#!pip install import-ipynb"
   ]
  },
  {
   "cell_type": "code",
   "execution_count": 15,
   "metadata": {},
   "outputs": [],
   "source": [
    "import import_ipynb\n",
    "import calc #import jupyter notebook version"
   ]
  },
  {
   "cell_type": "code",
   "execution_count": 20,
   "metadata": {},
   "outputs": [],
   "source": [
    "\n",
    "class TestCalc(unittest.TestCase):\n",
    "    \n",
    "    def test_add(self):\n",
    "        result = calc.add(10,5)\n",
    "        self.assertEqual(result, 15)\n",
    "        self.assertEqual(calc.add(-1,1), 0)\n",
    "        self.assertEqual(calc.add(-1,-1), -2)\n",
    "\n",
    "    def test_subtract(self):\n",
    "        self.assertEqual(calc.subtract(10,5), 5)\n",
    "        self.assertEqual(calc.subtract(-1,1), -2)\n",
    "        self.assertEqual(calc.subtract(-1,-1), 0)\n",
    "\n",
    "    def test_multiply(self):\n",
    "        self.assertEqual(calc.multiply(10,5), 50)\n",
    "        self.assertEqual(calc.multiply(-1,1), -1)\n",
    "        self.assertEqual(calc.multiply(-1,-1), 1)\n",
    "        \n",
    "    def test_divide(self):\n",
    "        self.assertEqual(calc.divide(10,5), 2)\n",
    "        self.assertEqual(calc.divide(-1,1), -1)\n",
    "        self.assertEqual(calc.divide(-1,-1), 1)\n",
    "        self.assertEqual(calc.divide(5, 2), 2.5)\n",
    "        \n",
    "        # test if division by zero gives valueError:\n",
    "        with self.assertRaises(ValueError):\n",
    "            calc.divide(10, 0)\n",
    "\n",
    "#if __name__ == '__main__':\n",
    "#    unittest.main()"
   ]
  },
  {
   "cell_type": "code",
   "execution_count": 21,
   "metadata": {},
   "outputs": [
    {
     "name": "stderr",
     "output_type": "stream",
     "text": [
      "test_add (__main__.TestCalc) ... ok\n",
      "test_divide (__main__.TestCalc) ... ok\n",
      "test_multiply (__main__.TestCalc) ... ok\n",
      "test_subtract (__main__.TestCalc) ... ok\n",
      "\n",
      "----------------------------------------------------------------------\n",
      "Ran 4 tests in 0.007s\n",
      "\n",
      "OK\n"
     ]
    },
    {
     "data": {
      "text/plain": [
       "<unittest.main.TestProgram at 0x233c71a1160>"
      ]
     },
     "execution_count": 21,
     "metadata": {},
     "output_type": "execute_result"
    }
   ],
   "source": [
    "## equivent to terminal command:: python -m unittest test_calc.py\n",
    "unittest.main(argv=[''], verbosity=2, exit=False)\n",
    "\n",
    "## you dont need to write if main ... but this means you can run it in terminal using only python."
   ]
  }
 ],
 "metadata": {
  "kernelspec": {
   "display_name": "Python 3",
   "language": "python",
   "name": "python3"
  },
  "language_info": {
   "codemirror_mode": {
    "name": "ipython",
    "version": 3
   },
   "file_extension": ".py",
   "mimetype": "text/x-python",
   "name": "python",
   "nbconvert_exporter": "python",
   "pygments_lexer": "ipython3",
   "version": "3.8.5"
  }
 },
 "nbformat": 4,
 "nbformat_minor": 4
}
